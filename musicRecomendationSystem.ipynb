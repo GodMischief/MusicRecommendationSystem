{
 "cells": [
  {
   "cell_type": "markdown",
   "metadata": {},
   "source": [
    "# Spotify Playlist Data Extraction and Recommendation System"
   ]
  },
  {
   "cell_type": "markdown",
   "metadata": {},
   "source": [
    "## Importing Necessary Libraries"
   ]
  },
  {
   "cell_type": "code",
   "execution_count": 1,
   "metadata": {},
   "outputs": [
    {
     "name": "stdout",
     "output_type": "stream",
     "text": [
      "Requirement already satisfied: spotipy in c:\\users\\sohag\\anaconda3\\lib\\site-packages (2.24.0)\n",
      "Requirement already satisfied: redis>=3.5.3 in c:\\users\\sohag\\anaconda3\\lib\\site-packages (from spotipy) (5.0.8)\n",
      "Requirement already satisfied: requests>=2.25.0 in c:\\users\\sohag\\anaconda3\\lib\\site-packages (from spotipy) (2.31.0)\n",
      "Requirement already satisfied: urllib3>=1.26.0 in c:\\users\\sohag\\anaconda3\\lib\\site-packages (from spotipy) (1.26.16)\n",
      "Requirement already satisfied: charset-normalizer<4,>=2 in c:\\users\\sohag\\anaconda3\\lib\\site-packages (from requests>=2.25.0->spotipy) (2.0.4)\n",
      "Requirement already satisfied: idna<4,>=2.5 in c:\\users\\sohag\\anaconda3\\lib\\site-packages (from requests>=2.25.0->spotipy) (3.4)\n",
      "Requirement already satisfied: certifi>=2017.4.17 in c:\\users\\sohag\\anaconda3\\lib\\site-packages (from requests>=2.25.0->spotipy) (2024.7.4)\n",
      "Note: you may need to restart the kernel to use updated packages.\n"
     ]
    }
   ],
   "source": [
    "import requests\n",
    "import base64\n",
    "import pandas as pd\n",
    "import numpy as np\n",
    "from sklearn.model_selection import train_test_split\n",
    "from sklearn.preprocessing import MinMaxScaler\n",
    "from datetime import datetime\n",
    "from sklearn.metrics.pairwise import cosine_similarity\n",
    "%pip install spotipy\n",
    "import spotipy\n",
    "from spotipy.oauth2 import SpotifyOAuth"
   ]
  },
  {
   "cell_type": "markdown",
   "metadata": {},
   "source": [
    "## Spotify API Authentication"
   ]
  },
  {
   "cell_type": "code",
   "execution_count": 2,
   "metadata": {},
   "outputs": [],
   "source": [
    "# Replace with your own Client ID and Client Secret\n",
    "CLIENT_ID = 'your_client_id'\n",
    "CLIENT_SECRET = 'your_client_secret'"
   ]
  },
  {
   "cell_type": "code",
   "execution_count": 3,
   "metadata": {},
   "outputs": [],
   "source": [
    "# Base64 encode the client ID and client secret\n",
    "client_credentials = f\"{CLIENT_ID}:{CLIENT_SECRET}\"\n",
    "client_credentials_base64 = base64.b64encode(client_credentials.encode()).decode()"
   ]
  },
  {
   "cell_type": "code",
   "execution_count": 4,
   "metadata": {},
   "outputs": [
    {
     "name": "stdout",
     "output_type": "stream",
     "text": [
      "Access token obtained successfully.\n"
     ]
    }
   ],
   "source": [
    "# Request the access token\n",
    "token_url = 'https://accounts.spotify.com/api/token'\n",
    "headers = {\n",
    "    'Authorization': f'Basic {client_credentials_base64}'\n",
    "}\n",
    "data = {\n",
    "    'grant_type': 'client_credentials'\n",
    "}\n",
    "response = requests.post(token_url, data=data, headers=headers)\n",
    "\n",
    "if response.status_code == 200:\n",
    "    access_token = response.json()['access_token']\n",
    "    print(\"Access token obtained successfully.\")\n",
    "else:\n",
    "    print(\"Error obtaining access token.\")\n",
    "    exit()"
   ]
  },
  {
   "cell_type": "markdown",
   "metadata": {},
   "source": [
    "## Function to Retrieve Playlist Data from Spotify"
   ]
  },
  {
   "cell_type": "code",
   "execution_count": 5,
   "metadata": {},
   "outputs": [],
   "source": [
    "def get_trending_playlist_data(playlist_id, access_token):\n",
    "    \"\"\"\n",
    "    Fetches playlist data from Spotify and returns a DataFrame with relevant track information.\n",
    "\n",
    "    Parameters:\n",
    "    - playlist_id: Spotify playlist ID.\n",
    "    - access_token: Spotify access token.\n",
    "\n",
    "    Returns:\n",
    "    - DataFrame containing track information and audio features.\n",
    "    \"\"\"\n",
    "\n",
    "    # Set up Spotipy with the access token\n",
    "    sp = spotipy.Spotify(auth=access_token)\n",
    "\n",
    "    # Get the tracks from the playlist\n",
    "    playlist_tracks = sp.playlist_tracks(playlist_id, fields='items(track(id, name, artists, album(id, name)))')\n",
    "\n",
    "    # Extract relevant information and store in a list of dictionaries\n",
    "    music_data = []\n",
    "    for track_info in playlist_tracks['items']:\n",
    "        track = track_info['track']\n",
    "        track_name = track['name']\n",
    "        artists = ', '.join([artist['name'] for artist in track['artists']])\n",
    "        album_name = track['album']['name']\n",
    "        album_id = track['album']['id']\n",
    "        track_id = track['id']\n",
    "\n",
    "        # Get audio features for the track\n",
    "        audio_features = sp.audio_features(track_id)[0] if track_id else None\n",
    "\n",
    "        # Get release date of the album\n",
    "        release_date = None\n",
    "        if album_id:\n",
    "            try:\n",
    "                album_info = sp.album(album_id)\n",
    "                release_date = album_info['release_date']\n",
    "            except:\n",
    "                pass\n",
    "\n",
    "        # Get popularity of the track\n",
    "        popularity = None\n",
    "        if track_id:\n",
    "            try:\n",
    "                track_info = sp.track(track_id)\n",
    "                popularity = track_info['popularity']\n",
    "            except:\n",
    "                pass\n",
    "\n",
    "        # Add additional track information to the track data\n",
    "        track_data = {\n",
    "            'Track Name': track_name,\n",
    "            'Artists': artists,\n",
    "            'Album Name': album_name,\n",
    "            'Album ID': album_id,\n",
    "            'Track ID': track_id,\n",
    "            'Popularity': popularity,\n",
    "            'Release Date': release_date,\n",
    "            'Duration (ms)': audio_features['duration_ms'] if audio_features else None,\n",
    "            'Explicit': track_info.get('explicit', None),\n",
    "            'External URLs': track_info.get('external_urls', {}).get('spotify', None),\n",
    "            'Danceability': audio_features['danceability'] if audio_features else None,\n",
    "            'Energy': audio_features['energy'] if audio_features else None,\n",
    "            'Key': audio_features['key'] if audio_features else None,\n",
    "            'Loudness': audio_features['loudness'] if audio_features else None,\n",
    "            'Mode': audio_features['mode'] if audio_features else None,\n",
    "            'Speechiness': audio_features['speechiness'] if audio_features else None,\n",
    "            'Acousticness': audio_features['acousticness'] if audio_features else None,\n",
    "            'Instrumentalness': audio_features['instrumentalness'] if audio_features else None,\n",
    "            'Liveness': audio_features['liveness'] if audio_features else None,\n",
    "            'Valence': audio_features['valence'] if audio_features else None,\n",
    "            'Tempo': audio_features['tempo'] if audio_features else None,\n",
    "        }\n",
    "\n",
    "        music_data.append(track_data)\n",
    "\n",
    "    # Create a pandas DataFrame from the list of dictionaries\n",
    "    df = pd.DataFrame(music_data)\n",
    "    return df"
   ]
  },
  {
   "cell_type": "markdown",
   "metadata": {},
   "source": [
    "## Fetch and Display Trending Playlist Data"
   ]
  },
  {
   "cell_type": "code",
   "execution_count": 6,
   "metadata": {},
   "outputs": [
    {
     "name": "stdout",
     "output_type": "stream",
     "text": [
      "                               Track Name                             Artists  \\\n",
      "0                             Not Like Us                      Kendrick Lamar   \n",
      "1   I Had Some Help (Feat. Morgan Wallen)          Post Malone, Morgan Wallen   \n",
      "2           Guess featuring Billie Eilish           Charli xcx, Billie Eilish   \n",
      "3                               Big Dawgs                  Hanumankind, Kalmi   \n",
      "4                      I Don't Wanna Wait           David Guetta, OneRepublic   \n",
      "..                                    ...                                 ...   \n",
      "95                          Where You Are                  John Summit, HAYLA   \n",
      "96      Princess Diana (with Nicki Minaj)              Ice Spice, Nicki Minaj   \n",
      "97   HOT ONE (with TiaCorine & A$AP Ferg)  Denzel Curry, TiaCorine, A$AP Ferg   \n",
      "98                      Edge of Seventeen                                Wuki   \n",
      "99    Wanna Be (with Megan Thee Stallion)       GloRilla, Megan Thee Stallion   \n",
      "\n",
      "                              Album Name                Album ID  \\\n",
      "0                            Not Like Us  5JjnoGJyOxfSZUZtk2rRwZ   \n",
      "1                        I Had Some Help  1woYXxyyxTQJ0E0AhZE6mj   \n",
      "2          Guess featuring Billie Eilish  3ThlxfLSy4bfKzxWqmC7VN   \n",
      "3                              Big Dawgs  6Yw4204wbgmpsGTzjXBhYD   \n",
      "4                     I Don't Wanna Wait  0wCLHkBRKcndhMQQpeo8Ji   \n",
      "..                                   ...                     ...   \n",
      "95                         Where You Are  4bIEy1wDeaEklS1BanbsmR   \n",
      "96     Princess Diana (with Nicki Minaj)  2Q7WBQ794rA9ISPLfqdKjK   \n",
      "97  HOT ONE (with TiaCorine & A$AP Ferg)  4T64HQK7hobpqtvq8284zI   \n",
      "98                     Edge of Seventeen  6oeEtPWpOfed7plMHI5qef   \n",
      "99   Wanna Be (with Megan Thee Stallion)  06VGCe5MitPzT9VuqH4u1C   \n",
      "\n",
      "                  Track ID  Popularity Release Date  Duration (ms)  Explicit  \\\n",
      "0   6AI3ezQ4o3HUoP6Dhudph3          95   2024-05-04         274192      True   \n",
      "1   7221xIgOnuakPdLqT0F3nP          93   2024-05-10         178206      True   \n",
      "2   3WOhcATHxK2SLNeP5W3v1v          92   2024-08-01         145219     False   \n",
      "3   0OA00aPt3BV10qeMIs3meW          92   2024-07-09         190667      True   \n",
      "4   331l3xABO0HMr1Kkyh2LZq          90   2024-04-05         149668     False   \n",
      "..                     ...         ...          ...            ...       ...   \n",
      "95  4qDpLaFGf5ampf2DXD2TMA          70   2023-03-03         236000     False   \n",
      "96  0ZxhtATQ0a6EvQNZ0z6NKV          70   2023-04-14         172125      True   \n",
      "97  083HuPvgqYBLUiv82bVxwE          70   2024-06-05         165271      True   \n",
      "98  5IFSvSEeCAvvBEQ85poqKB          70   2022-10-21         164043     False   \n",
      "99  0Izt8MdEU7zDy2hDsm5YkH          70   2024-04-05         156444      True   \n",
      "\n",
      "                                        External URLs  ...  Energy  Key  \\\n",
      "0   https://open.spotify.com/track/6AI3ezQ4o3HUoP6...  ...   0.472    1   \n",
      "1   https://open.spotify.com/track/7221xIgOnuakPdL...  ...   0.855    7   \n",
      "2   https://open.spotify.com/track/3WOhcATHxK2SLNe...  ...   0.667    7   \n",
      "3   https://open.spotify.com/track/0OA00aPt3BV10qe...  ...   0.745    4   \n",
      "4   https://open.spotify.com/track/331l3xABO0HMr1K...  ...   0.714    1   \n",
      "..                                                ...  ...     ...  ...   \n",
      "95  https://open.spotify.com/track/4qDpLaFGf5ampf2...  ...   0.830    9   \n",
      "96  https://open.spotify.com/track/0ZxhtATQ0a6EvQN...  ...   0.689    9   \n",
      "97  https://open.spotify.com/track/083HuPvgqYBLUiv...  ...   0.724    5   \n",
      "98  https://open.spotify.com/track/5IFSvSEeCAvvBEQ...  ...   0.909    5   \n",
      "99  https://open.spotify.com/track/0Izt8MdEU7zDy2h...  ...   0.629    1   \n",
      "\n",
      "    Loudness  Mode  Speechiness  Acousticness  Instrumentalness  Liveness  \\\n",
      "0     -7.001     1       0.0776       0.01070            0.0000    0.1410   \n",
      "1     -4.860     1       0.0264       0.00757            0.0000    0.2450   \n",
      "2     -6.622     1       0.0983       0.01460            0.3000    0.0761   \n",
      "3     -3.202     0       0.1610       0.02350            0.0000    0.3630   \n",
      "4     -4.617     0       0.0309       0.03750            0.0000    0.2320   \n",
      "..       ...   ...          ...           ...               ...       ...   \n",
      "95    -6.402     0       0.0349       0.00879            0.0105    0.5290   \n",
      "96    -5.092     1       0.1710       0.16500            0.0000    0.0957   \n",
      "97    -5.145     1       0.1800       0.71700            0.0000    0.1500   \n",
      "98    -5.999     0       0.0476       0.03240            0.5270    0.0800   \n",
      "99    -5.170     1       0.3760       0.02260            0.0000    0.1460   \n",
      "\n",
      "    Valence    Tempo  \n",
      "0    0.2140  101.061  \n",
      "1    0.7310  127.986  \n",
      "2    0.6180  130.019  \n",
      "3    0.2620  180.098  \n",
      "4    0.5540  129.976  \n",
      "..      ...      ...  \n",
      "95   0.0726  126.040  \n",
      "96   0.7720  147.964  \n",
      "97   0.8270  163.119  \n",
      "98   0.3510  127.997  \n",
      "99   0.4070  135.050  \n",
      "\n",
      "[100 rows x 21 columns]\n",
      "Null values in the DataFrame:\n",
      " Track Name          0\n",
      "Artists             0\n",
      "Album Name          0\n",
      "Album ID            0\n",
      "Track ID            0\n",
      "Popularity          0\n",
      "Release Date        0\n",
      "Duration (ms)       0\n",
      "Explicit            0\n",
      "External URLs       0\n",
      "Danceability        0\n",
      "Energy              0\n",
      "Key                 0\n",
      "Loudness            0\n",
      "Mode                0\n",
      "Speechiness         0\n",
      "Acousticness        0\n",
      "Instrumentalness    0\n",
      "Liveness            0\n",
      "Valence             0\n",
      "Tempo               0\n",
      "dtype: int64\n"
     ]
    }
   ],
   "source": [
    "playlist_id = '37i9dQZF1DX76Wlfdnj7AP'  # Example playlist ID\n",
    "\n",
    "music_df = get_trending_playlist_data(playlist_id, access_token)\n",
    "print(music_df)\n",
    "print(\"Null values in the DataFrame:\\n\", music_df.isnull().sum())"
   ]
  },
  {
   "cell_type": "markdown",
   "metadata": {},
   "source": [
    "## Preprocessing and Feature Scaling"
   ]
  },
  {
   "cell_type": "code",
   "execution_count": 7,
   "metadata": {},
   "outputs": [],
   "source": [
    "# Normalize the music features using Min-Max scaling\n",
    "scaler = MinMaxScaler()\n",
    "music_features = music_df[['Danceability', 'Energy', 'Key', \n",
    "                           'Loudness', 'Mode', 'Speechiness', 'Acousticness',\n",
    "                           'Instrumentalness', 'Liveness', 'Valence', 'Tempo']].values\n",
    "music_features_scaled = scaler.fit_transform(music_features)"
   ]
  },
  {
   "cell_type": "markdown",
   "metadata": {},
   "source": [
    "## Content-Based Recommendation System"
   ]
  },
  {
   "cell_type": "code",
   "execution_count": 8,
   "metadata": {},
   "outputs": [],
   "source": [
    "def content_based_recommendations(input_song_name, num_recommendations=5):\n",
    "    \"\"\"\n",
    "    Generates song recommendations based on content-based filtering using cosine similarity.\n",
    "\n",
    "    Parameters:\n",
    "    - input_song_name: Name of the input song.\n",
    "    - num_recommendations: Number of recommendations to return.\n",
    "\n",
    "    Returns:\n",
    "    - DataFrame containing recommended songs.\n",
    "    \"\"\"\n",
    "    if input_song_name not in music_df['Track Name'].values:\n",
    "        print(f\"'{input_song_name}' not found in the dataset. Please enter a valid song name.\")\n",
    "        return\n",
    "\n",
    "    # Get the index of the input song in the music DataFrame\n",
    "    input_song_index = music_df[music_df['Track Name'] == input_song_name].index[0]\n",
    "\n",
    "    # Calculate the similarity scores based on music features (cosine similarity)\n",
    "    similarity_scores = cosine_similarity([music_features_scaled[input_song_index]], music_features_scaled)\n",
    "\n",
    "    # Get the indices of the most similar songs\n",
    "    similar_song_indices = similarity_scores.argsort()[0][::-1][1:num_recommendations + 1]\n",
    "\n",
    "    # Get the names of the most similar songs based on content-based filtering\n",
    "    recommendations = music_df.iloc[similar_song_indices][['Track Name', 'Artists', 'Album Name', 'Release Date', 'Popularity']]\n",
    "\n",
    "    return recommendations"
   ]
  },
  {
   "cell_type": "markdown",
   "metadata": {},
   "source": [
    "## Hybrid Recommendation System"
   ]
  },
  {
   "cell_type": "code",
   "execution_count": 9,
   "metadata": {},
   "outputs": [],
   "source": [
    "def calculate_weighted_popularity(release_date):\n",
    "    \"\"\"\n",
    "    Calculates a weighted popularity score based on the release date of a song.\n",
    "    \n",
    "    Parameters:\n",
    "    - release_date: The release date of the song in 'YYYY-MM-DD' format.\n",
    "\n",
    "    Returns:\n",
    "    - A weighted popularity score giving higher weight to more recent releases.\n",
    "    \"\"\"\n",
    "    release_date = datetime.strptime(release_date, '%Y-%m-%d')\n",
    "    time_span = datetime.now() - release_date\n",
    "    weight = 1 / (time_span.days + 1)\n",
    "    return weight"
   ]
  },
  {
   "cell_type": "code",
   "execution_count": 10,
   "metadata": {},
   "outputs": [],
   "source": [
    "\n",
    "def hybrid_recommendations(input_song_name, num_recommendations=5, alpha=0.5):\n",
    "    \"\"\"\n",
    "    Combines content-based filtering with popularity weighting to generate hybrid song recommendations.\n",
    "\n",
    "    Parameters:\n",
    "    - input_song_name: Name of the input song.\n",
    "    - num_recommendations: Number of recommendations to return.\n",
    "    - alpha: Weighting factor for combining content-based and popularity-based recommendations.\n",
    "\n",
    "    Returns:\n",
    "    - DataFrame containing hybrid recommended songs.\n",
    "    \"\"\"\n",
    "    if input_song_name not in music_df['Track Name'].values:\n",
    "        print(f\"'{input_song_name}' not found in the dataset. Please enter a valid song name.\")\n",
    "        return\n",
    "\n",
    "    # Get content-based recommendations\n",
    "    content_based_rec = content_based_recommendations(input_song_name, num_recommendations)\n",
    "\n",
    "    # Calculate the weighted popularity score for the input song\n",
    "    popularity_score = music_df.loc[music_df['Track Name'] == input_song_name, 'Popularity'].values[0]\n",
    "    weighted_popularity_score = popularity_score * calculate_weighted_popularity(\n",
    "        music_df.loc[music_df['Track Name'] == input_song_name, 'Release Date'].values[0]\n",
    "    )\n",
    "\n",
    "    # Add the input song with its weighted popularity score to the recommendations\n",
    "    new_entry = pd.DataFrame({\n",
    "        'Track Name': [input_song_name],\n",
    "        'Artists': [music_df.loc[music_df['Track Name'] == input_song_name, 'Artists'].values[0]],\n",
    "        'Album Name': [music_df.loc[music_df['Track Name'] == input_song_name, 'Album Name'].values[0]],\n",
    "        'Release Date': [music_df.loc[music_df['Track Name'] == input_song_name, 'Release Date'].values[0]],\n",
    "        'Popularity': [weighted_popularity_score]\n",
    "    })\n",
    "\n",
    "    hybrid_recommendations = pd.concat([content_based_rec, new_entry], ignore_index=True)\n",
    "\n",
    "    # Sort recommendations by popularity in descending order and exclude the input song\n",
    "    hybrid_recommendations = hybrid_recommendations.sort_values(by='Popularity', ascending=False)\n",
    "    hybrid_recommendations = hybrid_recommendations[hybrid_recommendations['Track Name'] != input_song_name]\n",
    "\n",
    "    return hybrid_recommendations"
   ]
  },
  {
   "cell_type": "markdown",
   "metadata": {},
   "source": [
    "## Example Usage of the Hybrid Recommendation System"
   ]
  },
  {
   "cell_type": "code",
   "execution_count": 11,
   "metadata": {},
   "outputs": [
    {
     "name": "stdout",
     "output_type": "stream",
     "text": [
      "Hybrid recommended songs for 'Not Like Us':\n",
      "           Track Name         Artists  \\\n",
      "0         Lovin On Me     Jack Harlow   \n",
      "2            euphoria  Kendrick Lamar   \n",
      "1                Fuel     Eminem, JID   \n",
      "3        Belly Dancer   Imanbek, BYOR   \n",
      "4  Sunshine (My Girl)            Wuki   \n",
      "\n",
      "                                Album Name Release Date  Popularity  \n",
      "0                              Lovin On Me   2023-11-10        84.0  \n",
      "2                                 euphoria   2024-04-30        84.0  \n",
      "1  The Death of Slim Shady (Coup De Grâce)   2024-07-12        81.0  \n",
      "3                             Belly Dancer   2022-02-18        79.0  \n",
      "4                       Sunshine (My Girl)   2023-09-01        76.0  \n"
     ]
    }
   ],
   "source": [
    "input_song_name = \"Not Like Us\"\n",
    "recommendations = hybrid_recommendations(input_song_name, num_recommendations=5)\n",
    "print(f\"Hybrid recommended songs for '{input_song_name}':\")\n",
    "print(recommendations)"
   ]
  }
 ],
 "metadata": {
  "kernelspec": {
   "display_name": "base",
   "language": "python",
   "name": "python3"
  },
  "language_info": {
   "codemirror_mode": {
    "name": "ipython",
    "version": 3
   },
   "file_extension": ".py",
   "mimetype": "text/x-python",
   "name": "python",
   "nbconvert_exporter": "python",
   "pygments_lexer": "ipython3",
   "version": "3.11.5"
  }
 },
 "nbformat": 4,
 "nbformat_minor": 2
}
